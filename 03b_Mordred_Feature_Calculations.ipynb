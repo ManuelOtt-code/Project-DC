{
 "cells": [
  {
   "cell_type": "markdown",
   "metadata": {
    "colab_type": "text",
    "id": "view-in-github"
   },
   "source": [
    "<a href=\"https://colab.research.google.com/github/ManuelOtt-code/Project-DC/blob/master/03b_Mordred_Feature_Calculations.ipynb\" target=\"_parent\"><img src=\"https://colab.research.google.com/assets/colab-badge.svg\" alt=\"Open In Colab\"/></a>"
   ]
  },
  {
   "cell_type": "markdown",
   "metadata": {
    "id": "2Q1tFn6t0Ni8"
   },
   "source": [
    "##Due to time and computational reasons, Mordred features were calculated in a seperate code here and were saved manually to be used in 03b_Mordred_ML_Training file. You do not need to run this code to generate the data and can directly go to 03b_Mordred_ML_Training."
   ]
  },
  {
   "cell_type": "code",
   "execution_count": null,
   "metadata": {
    "colab": {
     "base_uri": "https://localhost:8080/"
    },
    "id": "ePSRyyHvyI34",
    "outputId": "60a6757f-6038-496d-e3c9-8c97da240d6c"
   },
   "outputs": [
    {
     "name": "stdout",
     "output_type": "stream",
     "text": [
      "Requirement already satisfied: mordred in /usr/local/lib/python3.11/dist-packages (1.2.0)\n",
      "Requirement already satisfied: six==1.* in /usr/local/lib/python3.11/dist-packages (from mordred) (1.17.0)\n",
      "Requirement already satisfied: numpy==1.* in /usr/local/lib/python3.11/dist-packages (from mordred) (1.23.5)\n",
      "Requirement already satisfied: networkx==2.* in /usr/local/lib/python3.11/dist-packages (from mordred) (2.8.8)\n",
      "Requirement already satisfied: numpy==1.23.5 in /usr/local/lib/python3.11/dist-packages (1.23.5)\n",
      "Collecting rdkit\n",
      "  Downloading rdkit-2025.3.3-cp311-cp311-manylinux_2_28_x86_64.whl.metadata (4.0 kB)\n",
      "Requirement already satisfied: numpy in /usr/local/lib/python3.11/dist-packages (from rdkit) (1.23.5)\n",
      "Requirement already satisfied: Pillow in /usr/local/lib/python3.11/dist-packages (from rdkit) (11.2.1)\n",
      "Downloading rdkit-2025.3.3-cp311-cp311-manylinux_2_28_x86_64.whl (34.9 MB)\n",
      "\u001b[2K   \u001b[90m━━━━━━━━━━━━━━━━━━━━━━━━━━━━━━━━━━━━━━━━\u001b[0m \u001b[32m34.9/34.9 MB\u001b[0m \u001b[31m29.8 MB/s\u001b[0m eta \u001b[36m0:00:00\u001b[0m\n",
      "\u001b[?25hInstalling collected packages: rdkit\n",
      "Successfully installed rdkit-2025.3.3\n"
     ]
    }
   ],
   "source": [
    "# Install packages\n",
    "!pip install mordred\n",
    "!pip install numpy==1.23.5\n",
    "!pip install rdkit\n",
    "from mordred import Calculator, descriptors"
   ]
  },
  {
   "cell_type": "code",
   "execution_count": null,
   "metadata": {
    "colab": {
     "base_uri": "https://localhost:8080/"
    },
    "id": "PocpvjRkykhV",
    "outputId": "32e54deb-a9c5-4bad-91b9-940b77b46b03"
   },
   "outputs": [
    {
     "name": "stdout",
     "output_type": "stream",
     "text": [
      "--2025-06-30 07:45:33--  https://github.com/ManuelOtt-code/Project-DC/raw/refs/heads/master/func.py\n",
      "Resolving github.com (github.com)... 140.82.112.4\n",
      "Connecting to github.com (github.com)|140.82.112.4|:443... connected.\n",
      "HTTP request sent, awaiting response... 302 Found\n",
      "Location: https://raw.githubusercontent.com/ManuelOtt-code/Project-DC/refs/heads/master/func.py [following]\n",
      "--2025-06-30 07:45:33--  https://raw.githubusercontent.com/ManuelOtt-code/Project-DC/refs/heads/master/func.py\n",
      "Resolving raw.githubusercontent.com (raw.githubusercontent.com)... 185.199.108.133, 185.199.109.133, 185.199.110.133, ...\n",
      "Connecting to raw.githubusercontent.com (raw.githubusercontent.com)|185.199.108.133|:443... connected.\n",
      "HTTP request sent, awaiting response... 200 OK\n",
      "Length: 6467 (6.3K) [text/plain]\n",
      "Saving to: ‘func.py’\n",
      "\n",
      "func.py             100%[===================>]   6.32K  --.-KB/s    in 0s      \n",
      "\n",
      "Last-modified header missing -- time-stamps turned off.\n",
      "2025-06-30 07:45:33 (85.9 MB/s) - ‘func.py’ saved [6467/6467]\n",
      "\n",
      "--2025-06-30 07:45:33--  https://github.com/ManuelOtt-code/Project-DC/raw/refs/heads/master//data_extraction%2Bcuration/Landrum_Phenol_training_data.csv\n",
      "Resolving github.com (github.com)... 140.82.112.4\n",
      "Connecting to github.com (github.com)|140.82.112.4|:443... connected.\n",
      "HTTP request sent, awaiting response... 302 Found\n",
      "Location: https://raw.githubusercontent.com/ManuelOtt-code/Project-DC/refs/heads/master/data_extraction%2Bcuration/Landrum_Phenol_training_data.csv [following]\n",
      "--2025-06-30 07:45:34--  https://raw.githubusercontent.com/ManuelOtt-code/Project-DC/refs/heads/master/data_extraction%2Bcuration/Landrum_Phenol_training_data.csv\n",
      "Resolving raw.githubusercontent.com (raw.githubusercontent.com)... 185.199.108.133, 185.199.109.133, 185.199.110.133, ...\n",
      "Connecting to raw.githubusercontent.com (raw.githubusercontent.com)|185.199.108.133|:443... connected.\n",
      "HTTP request sent, awaiting response... 200 OK\n",
      "Length: 91559 (89K) [text/plain]\n",
      "Saving to: ‘Landrum_Phenol_training_data.csv’\n",
      "\n",
      "Landrum_Phenol_trai 100%[===================>]  89.41K  --.-KB/s    in 0.03s   \n",
      "\n",
      "Last-modified header missing -- time-stamps turned off.\n",
      "2025-06-30 07:45:34 (3.46 MB/s) - ‘Landrum_Phenol_training_data.csv’ saved [91559/91559]\n",
      "\n",
      "--2025-06-30 07:45:34--  https://github.com/ManuelOtt-code/Project-DC/raw/refs/heads/master//data_extraction%2Bcuration/Landrum_Phenol_test_data.csv\n",
      "Resolving github.com (github.com)... 140.82.112.3\n",
      "Connecting to github.com (github.com)|140.82.112.3|:443... connected.\n",
      "HTTP request sent, awaiting response... 302 Found\n",
      "Location: https://raw.githubusercontent.com/ManuelOtt-code/Project-DC/refs/heads/master/data_extraction%2Bcuration/Landrum_Phenol_test_data.csv [following]\n",
      "--2025-06-30 07:45:34--  https://raw.githubusercontent.com/ManuelOtt-code/Project-DC/refs/heads/master/data_extraction%2Bcuration/Landrum_Phenol_test_data.csv\n",
      "Resolving raw.githubusercontent.com (raw.githubusercontent.com)... 185.199.108.133, 185.199.109.133, 185.199.110.133, ...\n",
      "Connecting to raw.githubusercontent.com (raw.githubusercontent.com)|185.199.108.133|:443... connected.\n",
      "HTTP request sent, awaiting response... 200 OK\n",
      "Length: 22912 (22K) [text/plain]\n",
      "Saving to: ‘Landrum_Phenol_test_data.csv’\n",
      "\n",
      "Landrum_Phenol_test 100%[===================>]  22.38K  --.-KB/s    in 0.001s  \n",
      "\n",
      "Last-modified header missing -- time-stamps turned off.\n",
      "2025-06-30 07:45:34 (16.1 MB/s) - ‘Landrum_Phenol_test_data.csv’ saved [22912/22912]\n",
      "\n",
      "--2025-06-30 07:45:34--  https://github.com/ManuelOtt-code/Project-DC/raw/refs/heads/master//data_extraction%2Bcuration/Landrum_All_test_data.csv\n",
      "Resolving github.com (github.com)... 140.82.112.4\n",
      "Connecting to github.com (github.com)|140.82.112.4|:443... connected.\n",
      "HTTP request sent, awaiting response... 302 Found\n",
      "Location: https://raw.githubusercontent.com/ManuelOtt-code/Project-DC/refs/heads/master/data_extraction%2Bcuration/Landrum_All_test_data.csv [following]\n",
      "--2025-06-30 07:45:34--  https://raw.githubusercontent.com/ManuelOtt-code/Project-DC/refs/heads/master/data_extraction%2Bcuration/Landrum_All_test_data.csv\n",
      "Resolving raw.githubusercontent.com (raw.githubusercontent.com)... 185.199.108.133, 185.199.109.133, 185.199.110.133, ...\n",
      "Connecting to raw.githubusercontent.com (raw.githubusercontent.com)|185.199.108.133|:443... connected.\n",
      "HTTP request sent, awaiting response... 200 OK\n",
      "Length: 36568 (36K) [text/plain]\n",
      "Saving to: ‘Landrum_All_test_data.csv’\n",
      "\n",
      "Landrum_All_test_da 100%[===================>]  35.71K  --.-KB/s    in 0.01s   \n",
      "\n",
      "Last-modified header missing -- time-stamps turned off.\n",
      "2025-06-30 07:45:34 (3.48 MB/s) - ‘Landrum_All_test_data.csv’ saved [36568/36568]\n",
      "\n",
      "--2025-06-30 07:45:34--  https://github.com/ManuelOtt-code/Project-DC/raw/refs/heads/master//data_extraction%2Bcuration/Landrum_All_training_data.csv\n",
      "Resolving github.com (github.com)... 140.82.113.3\n",
      "Connecting to github.com (github.com)|140.82.113.3|:443... connected.\n",
      "HTTP request sent, awaiting response... 302 Found\n",
      "Location: https://raw.githubusercontent.com/ManuelOtt-code/Project-DC/refs/heads/master/data_extraction%2Bcuration/Landrum_All_training_data.csv [following]\n",
      "--2025-06-30 07:45:34--  https://raw.githubusercontent.com/ManuelOtt-code/Project-DC/refs/heads/master/data_extraction%2Bcuration/Landrum_All_training_data.csv\n",
      "Resolving raw.githubusercontent.com (raw.githubusercontent.com)... 185.199.108.133, 185.199.109.133, 185.199.110.133, ...\n",
      "Connecting to raw.githubusercontent.com (raw.githubusercontent.com)|185.199.108.133|:443... connected.\n",
      "HTTP request sent, awaiting response... 200 OK\n",
      "Length: 144784 (141K) [text/plain]\n",
      "Saving to: ‘Landrum_All_training_data.csv’\n",
      "\n",
      "Landrum_All_trainin 100%[===================>] 141.39K  --.-KB/s    in 0.03s   \n",
      "\n",
      "Last-modified header missing -- time-stamps turned off.\n",
      "2025-06-30 07:45:35 (4.58 MB/s) - ‘Landrum_All_training_data.csv’ saved [144784/144784]\n",
      "\n",
      "--2025-06-30 07:45:35--  https://github.com/ManuelOtt-code/Project-DC/raw/refs/heads/master//data_extraction%2Bcuration/Minimal_Phenol_training_data.csv\n",
      "Resolving github.com (github.com)... 140.82.112.4\n",
      "Connecting to github.com (github.com)|140.82.112.4|:443... connected.\n",
      "HTTP request sent, awaiting response... 302 Found\n",
      "Location: https://raw.githubusercontent.com/ManuelOtt-code/Project-DC/refs/heads/master/data_extraction%2Bcuration/Minimal_Phenol_training_data.csv [following]\n",
      "--2025-06-30 07:45:35--  https://raw.githubusercontent.com/ManuelOtt-code/Project-DC/refs/heads/master/data_extraction%2Bcuration/Minimal_Phenol_training_data.csv\n",
      "Resolving raw.githubusercontent.com (raw.githubusercontent.com)... 185.199.108.133, 185.199.109.133, 185.199.110.133, ...\n",
      "Connecting to raw.githubusercontent.com (raw.githubusercontent.com)|185.199.108.133|:443... connected.\n",
      "HTTP request sent, awaiting response... 200 OK\n",
      "Length: 99441 (97K) [text/plain]\n",
      "Saving to: ‘Minimal_Phenol_training_data.csv’\n",
      "\n",
      "Minimal_Phenol_trai 100%[===================>]  97.11K  --.-KB/s    in 0.02s   \n",
      "\n",
      "Last-modified header missing -- time-stamps turned off.\n",
      "2025-06-30 07:45:35 (4.03 MB/s) - ‘Minimal_Phenol_training_data.csv’ saved [99441/99441]\n",
      "\n",
      "--2025-06-30 07:45:35--  https://github.com/ManuelOtt-code/Project-DC/raw/refs/heads/master//data_extraction%2Bcuration/Minimal_Phenol_test_data.csv\n",
      "Resolving github.com (github.com)... 140.82.114.4\n",
      "Connecting to github.com (github.com)|140.82.114.4|:443... connected.\n",
      "HTTP request sent, awaiting response... 302 Found\n",
      "Location: https://raw.githubusercontent.com/ManuelOtt-code/Project-DC/refs/heads/master/data_extraction%2Bcuration/Minimal_Phenol_test_data.csv [following]\n",
      "--2025-06-30 07:45:35--  https://raw.githubusercontent.com/ManuelOtt-code/Project-DC/refs/heads/master/data_extraction%2Bcuration/Minimal_Phenol_test_data.csv\n",
      "Resolving raw.githubusercontent.com (raw.githubusercontent.com)... 185.199.108.133, 185.199.109.133, 185.199.110.133, ...\n",
      "Connecting to raw.githubusercontent.com (raw.githubusercontent.com)|185.199.108.133|:443... connected.\n",
      "HTTP request sent, awaiting response... 200 OK\n",
      "Length: 24831 (24K) [text/plain]\n",
      "Saving to: ‘Minimal_Phenol_test_data.csv’\n",
      "\n",
      "Minimal_Phenol_test 100%[===================>]  24.25K  --.-KB/s    in 0.002s  \n",
      "\n",
      "Last-modified header missing -- time-stamps turned off.\n",
      "2025-06-30 07:45:35 (11.0 MB/s) - ‘Minimal_Phenol_test_data.csv’ saved [24831/24831]\n",
      "\n",
      "--2025-06-30 07:45:35--  https://github.com/ManuelOtt-code/Project-DC/raw/refs/heads/master//data_extraction%2Bcuration/Minimal_All_test_data.csv\n",
      "Resolving github.com (github.com)... 140.82.114.3\n",
      "Connecting to github.com (github.com)|140.82.114.3|:443... connected.\n",
      "HTTP request sent, awaiting response... 302 Found\n",
      "Location: https://raw.githubusercontent.com/ManuelOtt-code/Project-DC/refs/heads/master/data_extraction%2Bcuration/Minimal_All_test_data.csv [following]\n",
      "--2025-06-30 07:45:35--  https://raw.githubusercontent.com/ManuelOtt-code/Project-DC/refs/heads/master/data_extraction%2Bcuration/Minimal_All_test_data.csv\n",
      "Resolving raw.githubusercontent.com (raw.githubusercontent.com)... 185.199.108.133, 185.199.109.133, 185.199.110.133, ...\n",
      "Connecting to raw.githubusercontent.com (raw.githubusercontent.com)|185.199.108.133|:443... connected.\n",
      "HTTP request sent, awaiting response... 200 OK\n",
      "Length: 41749 (41K) [text/plain]\n",
      "Saving to: ‘Minimal_All_test_data.csv’\n",
      "\n",
      "Minimal_All_test_da 100%[===================>]  40.77K  --.-KB/s    in 0.01s   \n",
      "\n",
      "Last-modified header missing -- time-stamps turned off.\n",
      "2025-06-30 07:45:35 (3.26 MB/s) - ‘Minimal_All_test_data.csv’ saved [41749/41749]\n",
      "\n",
      "--2025-06-30 07:45:35--  https://github.com/ManuelOtt-code/Project-DC/raw/refs/heads/master//data_extraction%2Bcuration/Minimal_All_training_data.csv\n",
      "Resolving github.com (github.com)... 140.82.112.3\n",
      "Connecting to github.com (github.com)|140.82.112.3|:443... connected.\n",
      "HTTP request sent, awaiting response... 302 Found\n",
      "Location: https://raw.githubusercontent.com/ManuelOtt-code/Project-DC/refs/heads/master/data_extraction%2Bcuration/Minimal_All_training_data.csv [following]\n",
      "--2025-06-30 07:45:36--  https://raw.githubusercontent.com/ManuelOtt-code/Project-DC/refs/heads/master/data_extraction%2Bcuration/Minimal_All_training_data.csv\n",
      "Resolving raw.githubusercontent.com (raw.githubusercontent.com)... 185.199.108.133, 185.199.109.133, 185.199.110.133, ...\n",
      "Connecting to raw.githubusercontent.com (raw.githubusercontent.com)|185.199.108.133|:443... connected.\n",
      "HTTP request sent, awaiting response... 200 OK\n",
      "Length: 163693 (160K) [text/plain]\n",
      "Saving to: ‘Minimal_All_training_data.csv’\n",
      "\n",
      "Minimal_All_trainin 100%[===================>] 159.86K  --.-KB/s    in 0.03s   \n",
      "\n",
      "Last-modified header missing -- time-stamps turned off.\n",
      "2025-06-30 07:45:36 (4.83 MB/s) - ‘Minimal_All_training_data.csv’ saved [163693/163693]\n",
      "\n"
     ]
    }
   ],
   "source": [
    "# Get data that we previously currated or you can skip this if you have it already downloaded to your google drive or wherever\n",
    "# you run this\n",
    "!wget --timestamping https://github.com/ManuelOtt-code/Project-DC/raw/refs/heads/master/func.py\n",
    "!wget --timestamping https://github.com/ManuelOtt-code/Project-DC/raw/refs/heads/master//data_extraction%2Bcuration/Landrum_Phenol_training_data.csv\n",
    "!wget --timestamping https://github.com/ManuelOtt-code/Project-DC/raw/refs/heads/master//data_extraction%2Bcuration/Landrum_Phenol_test_data.csv\n",
    "!wget --timestamping https://github.com/ManuelOtt-code/Project-DC/raw/refs/heads/master//data_extraction%2Bcuration/Landrum_All_test_data.csv\n",
    "!wget --timestamping https://github.com/ManuelOtt-code/Project-DC/raw/refs/heads/master//data_extraction%2Bcuration/Landrum_All_training_data.csv\n",
    "!wget --timestamping https://github.com/ManuelOtt-code/Project-DC/raw/refs/heads/master//data_extraction%2Bcuration/Minimal_Phenol_training_data.csv\n",
    "!wget --timestamping https://github.com/ManuelOtt-code/Project-DC/raw/refs/heads/master//data_extraction%2Bcuration/Minimal_Phenol_test_data.csv\n",
    "!wget --timestamping https://github.com/ManuelOtt-code/Project-DC/raw/refs/heads/master//data_extraction%2Bcuration/Minimal_All_test_data.csv\n",
    "!wget --timestamping https://github.com/ManuelOtt-code/Project-DC/raw/refs/heads/master//data_extraction%2Bcuration/Minimal_All_training_data.csv"
   ]
  },
  {
   "cell_type": "code",
   "execution_count": null,
   "metadata": {
    "id": "m6G55e9Kyb0_"
   },
   "outputs": [],
   "source": [
    "# all CSV files -> dataframe\n",
    "import pandas as pd\n",
    "\n",
    "df_Landrum_Phenol_training_data = pd.read_csv(\"Landrum_Phenol_training_data.csv\")\n",
    "df_Landrum_Phenol_test_data = pd.read_csv(\"Landrum_Phenol_test_data.csv\")\n",
    "df_Landrum_All_training_data = pd.read_csv(\"Landrum_All_training_data.csv\")\n",
    "df_Landrum_All_test_data = pd.read_csv(\"Landrum_All_test_data.csv\")\n",
    "df_Minimal_Phenol_training_data = pd.read_csv(\"Minimal_Phenol_training_data.csv\")\n",
    "df_Minimal_Phenol_test_data = pd.read_csv(\"Minimal_Phenol_test_data.csv\")\n",
    "df_Minimal_All_training_data = pd.read_csv(\"Minimal_All_training_data.csv\")\n",
    "df_Minimal_All_test_data = pd.read_csv(\"Minimal_All_test_data.csv\")"
   ]
  },
  {
   "cell_type": "code",
   "execution_count": null,
   "metadata": {
    "id": "tE8gTFHFzfvN"
   },
   "outputs": [],
   "source": [
    "# Upload dataframes and choose the subset of data that the mordred features are going to be generated for\n",
    "\n",
    "datasets = {\n",
    "    \"Landrum_Phenol_training\": df_Landrum_Phenol_training_data,\n",
    "    \"Landrum_All_training\": df_Landrum_All_training_data,\n",
    "    \"Landrum_Phenol_test\": df_Landrum_Phenol_test_data,\n",
    "    \"Landrum_All_test\": df_Landrum_All_test_data,\n",
    "    \"Minimal_Phenol_training\": df_Minimal_Phenol_training_data,\n",
    "    \"Minimal_All_training\": df_Minimal_All_training_data,\n",
    "    \"Minimal_Phenol_test\": df_Minimal_Phenol_test_data,\n",
    "    \"Minimal_All_test\": df_Minimal_All_test_data,\n",
    "}\n",
    "\n",
    "COMPUTE = {\n",
    "    \"Landrum_Phenol_training\": False,\n",
    "    \"Landrum_All_training\": True,\n",
    "    \"Landrum_Phenol_test\": False,\n",
    "    \"Landrum_All_test\": True,\n",
    "    \"Minimal_Phenol_training\": False,\n",
    "    \"Minimal_All_training\": False,\n",
    "    \"Minimal_Phenol_test\": False,\n",
    "    \"Minimal_All_test\": False,\n",
    "}"
   ]
  },
  {
   "cell_type": "code",
   "execution_count": null,
   "metadata": {
    "id": "HH2AgHZJyR3T"
   },
   "outputs": [],
   "source": [
    "# prompt: provide a function to calculate all 2D descriptors from mordred\n",
    "# using the smiles from the df dataframe and append the calculated features to the same dataframe\n",
    "\n",
    "\n",
    "def generate_mordred_descriptors(df):\n",
    "    \"\"\"Calculates all 2D descriptors from Mordred and appends them to the DataFrame.\n",
    "\n",
    "    Args:\n",
    "        df: Input DataFrame with a 'canonical_Smiles' column.\n",
    "\n",
    "    Returns:\n",
    "        DataFrame with added Mordred descriptors.\n",
    "    \"\"\"\n",
    "\n",
    "    calc = Calculator(\n",
    "        descriptors, ignore_3D=True\n",
    "    )  # Initialize Mordred calculator (2D only)\n",
    "\n",
    "    # Calculate descriptors for valid molecules\n",
    "    def calculate_mordred_descriptors_for_mol(smiles):\n",
    "        mol = Chem.MolFromSmiles(smiles)\n",
    "        if mol is not None:\n",
    "            return calc(mol)\n",
    "        else:\n",
    "            return None  # Return None for invalid SMILES\n",
    "\n",
    "    df[\"mordred_descriptors\"] = df[\"canonical_Smiles\"].apply(\n",
    "        calculate_mordred_descriptors_for_mol\n",
    "    )\n",
    "\n",
    "    # Expand the Mordred descriptor dictionary into separate columns\n",
    "    mordred_df = pd.DataFrame(df[\"mordred_descriptors\"].tolist())\n",
    "\n",
    "    # Concatenate the expanded features with the original DataFrame\n",
    "    df = pd.concat([df, mordred_df], axis=1)\n",
    "\n",
    "    # Drop the original mordred_descriptors column\n",
    "    df = df.drop(\"mordred_descriptors\", axis=1)\n",
    "\n",
    "    return df"
   ]
  },
  {
   "cell_type": "code",
   "execution_count": null,
   "metadata": {
    "colab": {
     "base_uri": "https://localhost:8080/"
    },
    "id": "zbr44xrxyXmL",
    "outputId": "3eea2cb9-daa7-44f9-f8f6-d9513a09fe8b"
   },
   "outputs": [
    {
     "name": "stdout",
     "output_type": "stream",
     "text": [
      "⏭️ Skipping: Landrum_Phenol_training\n",
      "✅ Computing: Landrum_All_training\n"
     ]
    },
    {
     "name": "stderr",
     "output_type": "stream",
     "text": [
      "/usr/local/lib/python3.11/dist-packages/numpy/core/fromnumeric.py:88: RuntimeWarning: overflow encountered in reduce\n",
      "  \n"
     ]
    },
    {
     "name": "stdout",
     "output_type": "stream",
     "text": [
      "⏭️ Skipping: Landrum_Phenol_test\n",
      "✅ Computing: Landrum_All_test\n"
     ]
    },
    {
     "name": "stderr",
     "output_type": "stream",
     "text": [
      "/usr/local/lib/python3.11/dist-packages/numpy/core/fromnumeric.py:88: RuntimeWarning: overflow encountered in reduce\n",
      "  \n"
     ]
    },
    {
     "name": "stdout",
     "output_type": "stream",
     "text": [
      "⏭️ Skipping: Minimal_Phenol_training\n",
      "⏭️ Skipping: Minimal_All_training\n",
      "⏭️ Skipping: Minimal_Phenol_test\n",
      "⏭️ Skipping: Minimal_All_test\n"
     ]
    }
   ],
   "source": [
    "# Generate mordred features\n",
    "from rdkit import Chem\n",
    "\n",
    "mordred_descriptors = {}\n",
    "\n",
    "for name, df in datasets.items():\n",
    "    if COMPUTE.get(name, False):\n",
    "        print(f\"✅ Computing: {name}\")\n",
    "        mordred_descriptors[name] = generate_mordred_descriptors(df)\n",
    "        mordred_descriptors[name].to_csv(f\"{name}_mordred.csv\", index=False)\n",
    "    else:\n",
    "        print(f\"⏭️ Skipping: {name}\")"
   ]
  }
 ],
 "metadata": {
  "colab": {
   "include_colab_link": true,
   "provenance": []
  },
  "kernelspec": {
   "display_name": "Python 3 (ipykernel)",
   "language": "python",
   "name": "python3"
  },
  "language_info": {
   "codemirror_mode": {
    "name": "ipython",
    "version": 3
   },
   "file_extension": ".py",
   "mimetype": "text/x-python",
   "name": "python",
   "nbconvert_exporter": "python",
   "pygments_lexer": "ipython3",
   "version": "3.12.3"
  }
 },
 "nbformat": 4,
 "nbformat_minor": 4
}
