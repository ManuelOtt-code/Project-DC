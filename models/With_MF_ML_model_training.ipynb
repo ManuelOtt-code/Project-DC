{
  "nbformat": 4,
  "nbformat_minor": 0,
  "metadata": {
    "colab": {
      "provenance": [],
      "include_colab_link": true
    },
    "kernelspec": {
      "name": "python3",
      "display_name": "Python 3"
    },
    "language_info": {
      "name": "python"
    }
  },
  "cells": [
    {
      "cell_type": "markdown",
      "metadata": {
        "id": "view-in-github",
        "colab_type": "text"
      },
      "source": [
        "<a href=\"https://colab.research.google.com/github/ManuelOtt-code/Project-DC/blob/master/models/With_MF_ML_model_training.ipynb\" target=\"_parent\"><img src=\"https://colab.research.google.com/assets/colab-badge.svg\" alt=\"Open In Colab\"/></a>"
      ]
    },
    {
      "cell_type": "code",
      "execution_count": null,
      "metadata": {
        "colab": {
          "base_uri": "https://localhost:8080/"
        },
        "id": "Ov0xHwD5Zhqw",
        "outputId": "e0104a05-4173-467e-980d-ddd6d59d5544"
      },
      "outputs": [
        {
          "output_type": "stream",
          "name": "stdout",
          "text": [
            "Requirement already satisfied: rdkit in /usr/local/lib/python3.11/dist-packages (2025.3.2)\n",
            "Requirement already satisfied: numpy in /usr/local/lib/python3.11/dist-packages (from rdkit) (1.23.5)\n",
            "Requirement already satisfied: Pillow in /usr/local/lib/python3.11/dist-packages (from rdkit) (11.2.1)\n",
            "Drive already mounted at /content/drive; to attempt to forcibly remount, call drive.mount(\"/content/drive\", force_remount=True).\n"
          ]
        }
      ],
      "source": [
        "# Install RDKit\n",
        "!pip install rdkit\n",
        "\n",
        "# Library imports\n",
        "from pathlib import Path\n",
        "from warnings import filterwarnings\n",
        "import time\n",
        "import pandas as pd\n",
        "import numpy as np\n",
        "import matplotlib.pyplot as plt\n",
        "\n",
        "# RDKit\n",
        "from rdkit import Chem\n",
        "from rdkit.Chem import rdFingerprintGenerator\n",
        "\n",
        "# Scikit-learn\n",
        "from sklearn import svm, metrics, clone\n",
        "from sklearn.ensemble import RandomForestClassifier\n",
        "from sklearn.neural_network import MLPClassifier\n",
        "from sklearn.model_selection import KFold, train_test_split\n",
        "from sklearn.metrics import (\n",
        "    auc, accuracy_score, recall_score, roc_curve, roc_auc_score, RocCurveDisplay\n",
        ")\n",
        "from sklearn.pipeline import Pipeline\n",
        "from sklearn.preprocessing import StandardScaler\n",
        "from sklearn.svm import SVC\n",
        "from sklearn.linear_model import LogisticRegression\n",
        "from sklearn.feature_selection import (\n",
        "    VarianceThreshold, SelectKBest, f_classif, mutual_info_classif\n",
        ")\n",
        "from sklearn.base import BaseEstimator, TransformerMixin\n",
        "\n",
        "# Google Drive\n",
        "from google.colab import drive\n",
        "drive.mount('/content/drive')\n",
        "\n",
        "\n"
      ]
    },
    {
      "cell_type": "code",
      "source": [
        "!wget --timestamping https://github.com/ManuelOtt-code/Project-DC/raw/refs/heads/master/func.py\n",
        "!wget --timestamping https://github.com/ManuelOtt-code/Project-DC/raw/refs/heads/master//data_extraction%2Bcuration/Landrum_Phenol_training_data.csv\n",
        "!wget --timestamping https://github.com/ManuelOtt-code/Project-DC/raw/refs/heads/master//data_extraction%2Bcuration/Landrum_Phenol_test_data.csv\n",
        "!wget --timestamping https://github.com/ManuelOtt-code/Project-DC/raw/refs/heads/master//data_extraction%2Bcuration/Landrum_All_test_data.csv\n",
        "!wget --timestamping https://github.com/ManuelOtt-code/Project-DC/raw/refs/heads/master//data_extraction%2Bcuration/Landrum_All_training_data.csv\n",
        "!wget --timestamping https://github.com/ManuelOtt-code/Project-DC/raw/refs/heads/master//data_extraction%2Bcuration/Minimal_Phenol_training_data.csv\n",
        "!wget --timestamping https://github.com/ManuelOtt-code/Project-DC/raw/refs/heads/master//data_extraction%2Bcuration/Minimal_Phenol_test_data.csv\n",
        "!wget --timestamping https://github.com/ManuelOtt-code/Project-DC/raw/refs/heads/master//data_extraction%2Bcuration/Minimal_All_test_data.csv\n",
        "!wget --timestamping https://github.com/ManuelOtt-code/Project-DC/raw/refs/heads/master//data_extraction%2Bcuration/Minimal_All_training_data.csv\n"
      ],
      "metadata": {
        "colab": {
          "base_uri": "https://localhost:8080/"
        },
        "id": "2gq5PxY19yH_",
        "outputId": "5a37683a-5f7f-4c6b-81b8-54fe74d75ed5"
      },
      "execution_count": null,
      "outputs": [
        {
          "output_type": "stream",
          "name": "stdout",
          "text": [
            "--2025-05-19 15:32:10--  https://github.com/ManuelOtt-code/Project-DC/raw/refs/heads/master/func.py\n",
            "Resolving github.com (github.com)... 140.82.114.3\n",
            "Connecting to github.com (github.com)|140.82.114.3|:443... connected.\n",
            "HTTP request sent, awaiting response... 302 Found\n",
            "Location: https://raw.githubusercontent.com/ManuelOtt-code/Project-DC/refs/heads/master/func.py [following]\n",
            "--2025-05-19 15:32:10--  https://raw.githubusercontent.com/ManuelOtt-code/Project-DC/refs/heads/master/func.py\n",
            "Resolving raw.githubusercontent.com (raw.githubusercontent.com)... 185.199.110.133, 185.199.109.133, 185.199.111.133, ...\n",
            "Connecting to raw.githubusercontent.com (raw.githubusercontent.com)|185.199.110.133|:443... connected.\n",
            "HTTP request sent, awaiting response... 200 OK\n",
            "Length: 6467 (6.3K) [text/plain]\n",
            "Saving to: ‘func.py’\n",
            "\n",
            "func.py             100%[===================>]   6.32K  --.-KB/s    in 0s      \n",
            "\n",
            "Last-modified header missing -- time-stamps turned off.\n",
            "2025-05-19 15:32:10 (72.8 MB/s) - ‘func.py’ saved [6467/6467]\n",
            "\n",
            "--2025-05-19 15:32:10--  https://github.com/ManuelOtt-code/Project-DC/raw/refs/heads/master//data_extraction%2Bcuration/Landrum_Phenol_training_data.csv\n",
            "Resolving github.com (github.com)... 140.82.114.3\n",
            "Connecting to github.com (github.com)|140.82.114.3|:443... connected.\n",
            "HTTP request sent, awaiting response... 302 Found\n",
            "Location: https://raw.githubusercontent.com/ManuelOtt-code/Project-DC/refs/heads/master/data_extraction%2Bcuration/Landrum_Phenol_training_data.csv [following]\n",
            "--2025-05-19 15:32:10--  https://raw.githubusercontent.com/ManuelOtt-code/Project-DC/refs/heads/master/data_extraction%2Bcuration/Landrum_Phenol_training_data.csv\n",
            "Resolving raw.githubusercontent.com (raw.githubusercontent.com)... 185.199.108.133, 185.199.109.133, 185.199.110.133, ...\n",
            "Connecting to raw.githubusercontent.com (raw.githubusercontent.com)|185.199.108.133|:443... connected.\n",
            "HTTP request sent, awaiting response... 200 OK\n",
            "Length: 91559 (89K) [text/plain]\n",
            "Saving to: ‘Landrum_Phenol_training_data.csv’\n",
            "\n",
            "Landrum_Phenol_trai 100%[===================>]  89.41K  --.-KB/s    in 0.003s  \n",
            "\n",
            "Last-modified header missing -- time-stamps turned off.\n",
            "2025-05-19 15:32:10 (29.1 MB/s) - ‘Landrum_Phenol_training_data.csv’ saved [91559/91559]\n",
            "\n",
            "--2025-05-19 15:32:10--  https://github.com/ManuelOtt-code/Project-DC/raw/refs/heads/master//data_extraction%2Bcuration/Landrum_Phenol_test_data.csv\n",
            "Resolving github.com (github.com)... 140.82.114.3\n",
            "Connecting to github.com (github.com)|140.82.114.3|:443... connected.\n",
            "HTTP request sent, awaiting response... 302 Found\n",
            "Location: https://raw.githubusercontent.com/ManuelOtt-code/Project-DC/refs/heads/master/data_extraction%2Bcuration/Landrum_Phenol_test_data.csv [following]\n",
            "--2025-05-19 15:32:10--  https://raw.githubusercontent.com/ManuelOtt-code/Project-DC/refs/heads/master/data_extraction%2Bcuration/Landrum_Phenol_test_data.csv\n",
            "Resolving raw.githubusercontent.com (raw.githubusercontent.com)... 185.199.108.133, 185.199.109.133, 185.199.110.133, ...\n",
            "Connecting to raw.githubusercontent.com (raw.githubusercontent.com)|185.199.108.133|:443... connected.\n",
            "HTTP request sent, awaiting response... 200 OK\n",
            "Length: 22912 (22K) [text/plain]\n",
            "Saving to: ‘Landrum_Phenol_test_data.csv’\n",
            "\n",
            "Landrum_Phenol_test 100%[===================>]  22.38K  --.-KB/s    in 0s      \n",
            "\n",
            "Last-modified header missing -- time-stamps turned off.\n",
            "2025-05-19 15:32:10 (106 MB/s) - ‘Landrum_Phenol_test_data.csv’ saved [22912/22912]\n",
            "\n",
            "--2025-05-19 15:32:10--  https://github.com/ManuelOtt-code/Project-DC/raw/refs/heads/master//data_extraction%2Bcuration/Landrum_All_test_data.csv\n",
            "Resolving github.com (github.com)... 140.82.112.3\n",
            "Connecting to github.com (github.com)|140.82.112.3|:443... connected.\n",
            "HTTP request sent, awaiting response... 302 Found\n",
            "Location: https://raw.githubusercontent.com/ManuelOtt-code/Project-DC/refs/heads/master/data_extraction%2Bcuration/Landrum_All_test_data.csv [following]\n",
            "--2025-05-19 15:32:11--  https://raw.githubusercontent.com/ManuelOtt-code/Project-DC/refs/heads/master/data_extraction%2Bcuration/Landrum_All_test_data.csv\n",
            "Resolving raw.githubusercontent.com (raw.githubusercontent.com)... 185.199.108.133, 185.199.109.133, 185.199.110.133, ...\n",
            "Connecting to raw.githubusercontent.com (raw.githubusercontent.com)|185.199.108.133|:443... connected.\n",
            "HTTP request sent, awaiting response... 200 OK\n",
            "Length: 36568 (36K) [text/plain]\n",
            "Saving to: ‘Landrum_All_test_data.csv’\n",
            "\n",
            "Landrum_All_test_da 100%[===================>]  35.71K  --.-KB/s    in 0s      \n",
            "\n",
            "Last-modified header missing -- time-stamps turned off.\n",
            "2025-05-19 15:32:11 (116 MB/s) - ‘Landrum_All_test_data.csv’ saved [36568/36568]\n",
            "\n",
            "--2025-05-19 15:32:11--  https://github.com/ManuelOtt-code/Project-DC/raw/refs/heads/master//data_extraction%2Bcuration/Landrum_All_training_data.csv\n",
            "Resolving github.com (github.com)... 140.82.113.3\n",
            "Connecting to github.com (github.com)|140.82.113.3|:443... connected.\n",
            "HTTP request sent, awaiting response... 302 Found\n",
            "Location: https://raw.githubusercontent.com/ManuelOtt-code/Project-DC/refs/heads/master/data_extraction%2Bcuration/Landrum_All_training_data.csv [following]\n",
            "--2025-05-19 15:32:11--  https://raw.githubusercontent.com/ManuelOtt-code/Project-DC/refs/heads/master/data_extraction%2Bcuration/Landrum_All_training_data.csv\n",
            "Resolving raw.githubusercontent.com (raw.githubusercontent.com)... 185.199.108.133, 185.199.109.133, 185.199.110.133, ...\n",
            "Connecting to raw.githubusercontent.com (raw.githubusercontent.com)|185.199.108.133|:443... connected.\n",
            "HTTP request sent, awaiting response... 200 OK\n",
            "Length: 144784 (141K) [text/plain]\n",
            "Saving to: ‘Landrum_All_training_data.csv’\n",
            "\n",
            "Landrum_All_trainin 100%[===================>] 141.39K  --.-KB/s    in 0.004s  \n",
            "\n",
            "Last-modified header missing -- time-stamps turned off.\n",
            "2025-05-19 15:32:11 (35.8 MB/s) - ‘Landrum_All_training_data.csv’ saved [144784/144784]\n",
            "\n",
            "--2025-05-19 15:32:11--  https://github.com/ManuelOtt-code/Project-DC/raw/refs/heads/master//data_extraction%2Bcuration/Minimal_Phenol_training_data.csv\n",
            "Resolving github.com (github.com)... 140.82.113.4\n",
            "Connecting to github.com (github.com)|140.82.113.4|:443... connected.\n",
            "HTTP request sent, awaiting response... 302 Found\n",
            "Location: https://raw.githubusercontent.com/ManuelOtt-code/Project-DC/refs/heads/master/data_extraction%2Bcuration/Minimal_Phenol_training_data.csv [following]\n",
            "--2025-05-19 15:32:11--  https://raw.githubusercontent.com/ManuelOtt-code/Project-DC/refs/heads/master/data_extraction%2Bcuration/Minimal_Phenol_training_data.csv\n",
            "Resolving raw.githubusercontent.com (raw.githubusercontent.com)... 185.199.108.133, 185.199.109.133, 185.199.110.133, ...\n",
            "Connecting to raw.githubusercontent.com (raw.githubusercontent.com)|185.199.108.133|:443... connected.\n",
            "HTTP request sent, awaiting response... 200 OK\n",
            "Length: 99441 (97K) [text/plain]\n",
            "Saving to: ‘Minimal_Phenol_training_data.csv’\n",
            "\n",
            "Minimal_Phenol_trai 100%[===================>]  97.11K  --.-KB/s    in 0.003s  \n",
            "\n",
            "Last-modified header missing -- time-stamps turned off.\n",
            "2025-05-19 15:32:11 (32.0 MB/s) - ‘Minimal_Phenol_training_data.csv’ saved [99441/99441]\n",
            "\n",
            "--2025-05-19 15:32:11--  https://github.com/ManuelOtt-code/Project-DC/raw/refs/heads/master//data_extraction%2Bcuration/Minimal_Phenol_test_data.csv\n",
            "Resolving github.com (github.com)... 140.82.113.4\n",
            "Connecting to github.com (github.com)|140.82.113.4|:443... connected.\n",
            "HTTP request sent, awaiting response... 302 Found\n",
            "Location: https://raw.githubusercontent.com/ManuelOtt-code/Project-DC/refs/heads/master/data_extraction%2Bcuration/Minimal_Phenol_test_data.csv [following]\n",
            "--2025-05-19 15:32:11--  https://raw.githubusercontent.com/ManuelOtt-code/Project-DC/refs/heads/master/data_extraction%2Bcuration/Minimal_Phenol_test_data.csv\n",
            "Resolving raw.githubusercontent.com (raw.githubusercontent.com)... 185.199.108.133, 185.199.109.133, 185.199.110.133, ...\n",
            "Connecting to raw.githubusercontent.com (raw.githubusercontent.com)|185.199.108.133|:443... connected.\n",
            "HTTP request sent, awaiting response... 200 OK\n",
            "Length: 24831 (24K) [text/plain]\n",
            "Saving to: ‘Minimal_Phenol_test_data.csv’\n",
            "\n",
            "Minimal_Phenol_test 100%[===================>]  24.25K  --.-KB/s    in 0s      \n",
            "\n",
            "Last-modified header missing -- time-stamps turned off.\n",
            "2025-05-19 15:32:11 (107 MB/s) - ‘Minimal_Phenol_test_data.csv’ saved [24831/24831]\n",
            "\n",
            "--2025-05-19 15:32:11--  https://github.com/ManuelOtt-code/Project-DC/raw/refs/heads/master//data_extraction%2Bcuration/Minimal_All_test_data.csv\n",
            "Resolving github.com (github.com)... 140.82.112.4\n",
            "Connecting to github.com (github.com)|140.82.112.4|:443... connected.\n",
            "HTTP request sent, awaiting response... 302 Found\n",
            "Location: https://raw.githubusercontent.com/ManuelOtt-code/Project-DC/refs/heads/master/data_extraction%2Bcuration/Minimal_All_test_data.csv [following]\n",
            "--2025-05-19 15:32:12--  https://raw.githubusercontent.com/ManuelOtt-code/Project-DC/refs/heads/master/data_extraction%2Bcuration/Minimal_All_test_data.csv\n",
            "Resolving raw.githubusercontent.com (raw.githubusercontent.com)... 185.199.111.133, 185.199.109.133, 185.199.110.133, ...\n",
            "Connecting to raw.githubusercontent.com (raw.githubusercontent.com)|185.199.111.133|:443... connected.\n",
            "HTTP request sent, awaiting response... 200 OK\n",
            "Length: 24831 (24K) [text/plain]\n",
            "Saving to: ‘Minimal_All_test_data.csv’\n",
            "\n",
            "Minimal_All_test_da 100%[===================>]  24.25K  --.-KB/s    in 0s      \n",
            "\n",
            "Last-modified header missing -- time-stamps turned off.\n",
            "2025-05-19 15:32:12 (96.7 MB/s) - ‘Minimal_All_test_data.csv’ saved [24831/24831]\n",
            "\n",
            "--2025-05-19 15:32:12--  https://github.com/ManuelOtt-code/Project-DC/raw/refs/heads/master//data_extraction%2Bcuration/Minimal_All_training_data.csv\n",
            "Resolving github.com (github.com)... 140.82.113.3\n",
            "Connecting to github.com (github.com)|140.82.113.3|:443... connected.\n",
            "HTTP request sent, awaiting response... 302 Found\n",
            "Location: https://raw.githubusercontent.com/ManuelOtt-code/Project-DC/refs/heads/master/data_extraction%2Bcuration/Minimal_All_training_data.csv [following]\n",
            "--2025-05-19 15:32:12--  https://raw.githubusercontent.com/ManuelOtt-code/Project-DC/refs/heads/master/data_extraction%2Bcuration/Minimal_All_training_data.csv\n",
            "Resolving raw.githubusercontent.com (raw.githubusercontent.com)... 185.199.108.133, 185.199.110.133, 185.199.111.133, ...\n",
            "Connecting to raw.githubusercontent.com (raw.githubusercontent.com)|185.199.108.133|:443... connected.\n",
            "HTTP request sent, awaiting response... 200 OK\n",
            "Length: 99441 (97K) [text/plain]\n",
            "Saving to: ‘Minimal_All_training_data.csv’\n",
            "\n",
            "Minimal_All_trainin 100%[===================>]  97.11K  --.-KB/s    in 0.002s  \n",
            "\n",
            "Last-modified header missing -- time-stamps turned off.\n",
            "2025-05-19 15:32:12 (49.0 MB/s) - ‘Minimal_All_training_data.csv’ saved [99441/99441]\n",
            "\n"
          ]
        }
      ]
    },
    {
      "cell_type": "code",
      "source": [
        "\n",
        " #all CSV files -> dataframe\n",
        " df_Landrum_Phenol_training_data = pd.read_csv(\"Landrum_Phenol_training_data.csv\")\n",
        " df_Landrum_Phenol_test_data = pd.read_csv(\"Landrum_Phenol_test_data.csv\")\n",
        " df_Landrum_All_training_data = pd.read_csv(\"Landrum_All_training_data.csv\")\n",
        " df_Landrum_All_test_data = pd.read_csv(\"Landrum_All_test_data.csv\")\n",
        " df_Minimal_Phenol_training_data = pd.read_csv(\"Minimal_Phenol_training_data.csv\")\n",
        " df_Minimal_Phenol_test_data = pd.read_csv(\"Minimal_Phenol_test_data.csv\")\n",
        " df_Minimal_All_training_data = pd.read_csv(\"Minimal_All_training_data.csv\")\n",
        " df_Minimal_All_test_data = pd.read_csv(\"Minimal_All_test_data.csv\")\n"
      ],
      "metadata": {
        "id": "LZuOfRtYFG_B"
      },
      "execution_count": null,
      "outputs": []
    },
    {
      "cell_type": "code",
      "source": [
        "datasets = {\n",
        "    \"Landrum_Phenol_training\": df_Landrum_Phenol_training_data,\n",
        "    \"Landrum_All_training\": df_Landrum_All_training_data,\n",
        "    \"Landrum_Phenol_test\": df_Landrum_Phenol_test_data,\n",
        "    \"Landrum_All_test\": df_Landrum_All_test_data,\n",
        "    \"Minimal_Phenol_training\": df_Minimal_Phenol_training_data,\n",
        "    \"Minimal_All_training\": df_Minimal_All_training_data,\n",
        "    \"Minimal_Phenol_test\": df_Minimal_Phenol_test_data,\n",
        "    \"Minimal_All_test\": df_Minimal_All_test_data\n",
        "}\n",
        "\n",
        "COMPUTE = {\n",
        "    \"Landrum_Phenol_training\": False,\n",
        "    \"Landrum_All_training\": False,\n",
        "    \"Landrum_Phenol_test\": False,\n",
        "    \"Landrum_All_test\": False,\n",
        "    \"Minimal_Phenol_training\": False,\n",
        "    \"Minimal_All_training\": True,\n",
        "    \"Minimal_Phenol_test\": False,\n",
        "    \"Minimal_All_test\": True\n",
        "}"
      ],
      "metadata": {
        "id": "SAToRM6nKvFU"
      },
      "execution_count": null,
      "outputs": []
    },
    {
      "cell_type": "markdown",
      "source": [
        "# Generate Features\n",
        "\n",
        "\n",
        "\n",
        "*   all from RDKit\n",
        "*  all from mordred\n",
        "*   and add all the the same dataframe\n",
        "\n",
        "\n",
        "\n",
        "\n",
        "\n"
      ],
      "metadata": {
        "id": "yffvZa40CPR2"
      }
    },
    {
      "cell_type": "code",
      "source": [
        "# prompt: provide a code that generates some features available from rdkit for the structures given in df_curated\n",
        "\n",
        "\n",
        "\n",
        "def generate_some_rdkit_features(smiles):\n",
        "    \"\"\"Generates RDKit features for a given SMILES string.\"\"\"\n",
        "    mol = Chem.MolFromSmiles(smiles)\n",
        "    if mol is None:\n",
        "        return None  # Handle invalid SMILES\n",
        "\n",
        "    features = {}\n",
        "    # Descriptors\n",
        "    features['MolWt'] = Descriptors.MolWt(mol)\n",
        "    features['LogP'] = Descriptors.MolLogP(mol)\n",
        "    features['TPSA'] = rdMolDescriptors.CalcTPSA(mol)\n",
        "    # ... add other RDKit descriptors as needed ...\n",
        "    # 2D Descriptors\n",
        "    features['NumHAcceptors'] = Descriptors.NumHAcceptors(mol)\n",
        "    features['NumHDonors'] = Descriptors.NumHDonors(mol)\n",
        "    features['NumRotatableBonds'] = Descriptors.NumRotatableBonds(mol)\n",
        "    features['RingCount'] = Descriptors.RingCount(mol)\n",
        "\n",
        "    # Topological Descriptors\n",
        "    features['BalabanJ'] = Descriptors.BalabanJ(mol)\n",
        "    features['BertzCT'] = Descriptors.BertzCT(mol)\n",
        "    features['HallKierAlpha'] = Descriptors.HallKierAlpha(mol)\n",
        "\n",
        "\n",
        "    # ... add other relevant features ...\n",
        "\n",
        "    return features\n",
        "\n"
      ],
      "metadata": {
        "id": "8JFnQl-5CoFQ"
      },
      "execution_count": null,
      "outputs": []
    },
    {
      "cell_type": "code",
      "source": [
        "# prompt: provide a code that generates all features available from rdkit for the structures given in df_curated\n",
        "\n",
        "from rdkit import Chem\n",
        "from rdkit.Chem.MolStandardize import rdMolStandardize\n",
        "from rdkit.Chem import Descriptors, rdMolDescriptors\n",
        "\n",
        "def calculate_rdkit_descriptors_from_mol(smiles):\n",
        "    \"\"\"Generates RDKit features for a given SMILES string.\"\"\"\n",
        "    mol = Chem.MolFromSmiles(smiles)\n",
        "    if mol is None:\n",
        "        return None  # Handle invalid SMILES\n",
        "\n",
        "    features = Descriptors.CalcMolDescriptors(mol)\n",
        "\n",
        "    return features\n",
        "\n",
        "def generate_all_rdkit_features(df):\n",
        "    \"\"\"\n",
        "    Calculates all RDKit features for molecules in a DataFrame and adds them as columns.\n",
        "\n",
        "    Args:\n",
        "        df: Input DataFrame with a 'canonical_Smiles' column.\n",
        "\n",
        "    Returns:\n",
        "        DataFrame with added RDKit features as individual columns.\n",
        "    \"\"\"\n",
        "\n",
        "    # Apply the calculate_rdkit_descriptors_from_mol function to the 'canonical_Smiles' column\n",
        "    df['features'] = df['canonical_Smiles'].apply(calculate_rdkit_descriptors_from_mol)\n",
        "\n",
        "    # Expand the features dictionary into separate columns\n",
        "    features_df = pd.DataFrame(df['features'].tolist(), index=df.index)  # Use index of original df\n",
        "\n",
        "    # Concatenate the expanded features with the original DataFrame\n",
        "    df = pd.concat([df, features_df], axis=1)\n",
        "\n",
        "    # Drop the original features column\n",
        "    df = df.drop('features', axis=1)\n",
        "\n",
        "    return df"
      ],
      "metadata": {
        "id": "m-JmlRZ1CwS9"
      },
      "execution_count": null,
      "outputs": []
    },
    {
      "cell_type": "code",
      "source": [
        "# prompt: provide a function to calculate all 2D descriptors from mordred using the smiles from the df dataframe and append the calculated features to the same dataframe\n",
        "\n",
        "\n",
        "\n",
        "def generate_mordred_descriptors(df):\n",
        "    \"\"\"Calculates all 2D descriptors from Mordred and appends them to the DataFrame.\n",
        "\n",
        "    Args:\n",
        "        df: Input DataFrame with a 'canonical_Smiles' column.\n",
        "\n",
        "    Returns:\n",
        "        DataFrame with added Mordred descriptors.\n",
        "    \"\"\"\n",
        "\n",
        "    calc = Calculator(descriptors, ignore_3D=True) # Initialize Mordred calculator (2D only)\n",
        "\n",
        "    # Calculate descriptors for valid molecules\n",
        "    def calculate_mordred_descriptors_for_mol(smiles):\n",
        "      mol = Chem.MolFromSmiles(smiles)\n",
        "      if mol is not None:\n",
        "          return calc(mol)\n",
        "      else:\n",
        "          return None  # Return None for invalid SMILES\n",
        "\n",
        "    df['mordred_descriptors'] = df['canonical_Smiles'].apply(calculate_mordred_descriptors_for_mol)\n",
        "\n",
        "    # Expand the Mordred descriptor dictionary into separate columns\n",
        "    mordred_df = pd.DataFrame(df['mordred_descriptors'].tolist())\n",
        "\n",
        "    # Concatenate the expanded features with the original DataFrame\n",
        "    df = pd.concat([df, mordred_df], axis=1)\n",
        "\n",
        "    # Drop the original mordred_descriptors column\n",
        "    df = df.drop('mordred_descriptors', axis=1)\n",
        "\n",
        "    return df\n",
        "\n",
        "\n"
      ],
      "metadata": {
        "id": "ULB_pC5oDGv8"
      },
      "execution_count": null,
      "outputs": []
    },
    {
      "cell_type": "code",
      "source": [
        "#Generate rdkit features\n",
        "\n",
        "rdkit_features = {}\n",
        "\n",
        "for name, df in datasets.items():\n",
        "    if COMPUTE.get(name, False):\n",
        "        print(f\"✅ Computing: {name}\")\n",
        "        rdkit_features[name] = generate_all_rdkit_features(df)\n",
        "        rdkit_features[name].to_csv(f\"{name}_rdkit.csv\", index=False)  # ✅ HERE\n",
        "    else:\n",
        "        print(f\"⏭️ Skipping: {name}\")\n",
        "\n",
        "\n",
        "\n",
        "\n",
        "\n"
      ],
      "metadata": {
        "colab": {
          "base_uri": "https://localhost:8080/"
        },
        "id": "LSqT3OHEDupg",
        "outputId": "e6b43521-de17-48fa-e1dc-7526377144a9"
      },
      "execution_count": null,
      "outputs": [
        {
          "output_type": "stream",
          "name": "stdout",
          "text": [
            "⏭️ Skipping: Landrum_Phenol_training\n",
            "⏭️ Skipping: Landrum_All_training\n",
            "⏭️ Skipping: Landrum_Phenol_test\n",
            "⏭️ Skipping: Landrum_All_test\n",
            "⏭️ Skipping: Minimal_Phenol_training\n",
            "✅ Computing: Minimal_All_training\n",
            "⏭️ Skipping: Minimal_Phenol_test\n",
            "✅ Computing: Minimal_All_test\n"
          ]
        }
      ]
    },
    {
      "cell_type": "code",
      "source": [
        "!pip install mordred\n",
        "!pip install numpy==1.23.5\n",
        "from mordred import Calculator, descriptors\n"
      ],
      "metadata": {
        "colab": {
          "base_uri": "https://localhost:8080/"
        },
        "id": "H6O0A9tIHj27",
        "outputId": "1c65fd43-dbe9-45b3-fd55-474a70bebae7"
      },
      "execution_count": null,
      "outputs": [
        {
          "output_type": "stream",
          "name": "stdout",
          "text": [
            "Requirement already satisfied: mordred in /usr/local/lib/python3.11/dist-packages (1.2.0)\n",
            "Requirement already satisfied: six==1.* in /usr/local/lib/python3.11/dist-packages (from mordred) (1.17.0)\n",
            "Requirement already satisfied: numpy==1.* in /usr/local/lib/python3.11/dist-packages (from mordred) (1.23.5)\n",
            "Requirement already satisfied: networkx==2.* in /usr/local/lib/python3.11/dist-packages (from mordred) (2.8.8)\n",
            "Requirement already satisfied: numpy==1.23.5 in /usr/local/lib/python3.11/dist-packages (1.23.5)\n"
          ]
        }
      ]
    },
    {
      "cell_type": "code",
      "source": [
        "mordred_descriptors = {}\n",
        "\n",
        "for name, df in datasets.items():\n",
        "    if COMPUTE.get(name, False):\n",
        "        print(f\"✅ Computing: {name}\")\n",
        "        mordred_descriptors[name] = generate_mordred_descriptors(df)\n",
        "        mordred_descriptors[name].to_csv(f\"{name}_mordred.csv\", index=False)  # ✅ HERE\n",
        "    else:\n",
        "        print(f\"⏭️ Skipping: {name}\")\n",
        "\n",
        "\n"
      ],
      "metadata": {
        "colab": {
          "base_uri": "https://localhost:8080/"
        },
        "id": "56ApAgPcIYA3",
        "outputId": "92b1ac0b-ffe7-4a41-b686-1a573544b70a"
      },
      "execution_count": null,
      "outputs": [
        {
          "output_type": "stream",
          "name": "stdout",
          "text": [
            "⏭️ Skipping: Landrum_Phenol_training\n",
            "⏭️ Skipping: Landrum_All_training\n",
            "⏭️ Skipping: Landrum_Phenol_test\n",
            "⏭️ Skipping: Landrum_All_test\n",
            "⏭️ Skipping: Minimal_Phenol_training\n",
            "✅ Computing: Minimal_All_training\n"
          ]
        },
        {
          "output_type": "stream",
          "name": "stderr",
          "text": [
            "/usr/local/lib/python3.11/dist-packages/numpy/core/fromnumeric.py:86: RuntimeWarning: overflow encountered in reduce\n",
            "  return ufunc.reduce(obj, axis, dtype, out, **passkwargs)\n"
          ]
        },
        {
          "output_type": "stream",
          "name": "stdout",
          "text": [
            "⏭️ Skipping: Minimal_Phenol_test\n",
            "✅ Computing: Minimal_All_test\n"
          ]
        },
        {
          "output_type": "stream",
          "name": "stderr",
          "text": [
            "/usr/local/lib/python3.11/dist-packages/numpy/core/fromnumeric.py:86: RuntimeWarning: overflow encountered in reduce\n",
            "  return ufunc.reduce(obj, axis, dtype, out, **passkwargs)\n"
          ]
        }
      ]
    },
    {
      "cell_type": "code",
      "source": [],
      "metadata": {
        "id": "thoXTc4lJkqI"
      },
      "execution_count": null,
      "outputs": []
    },
    {
      "cell_type": "markdown",
      "source": [
        "#Feature selection\n",
        "\n",
        "* Remove semi-constant features (>= 80% of column values the same after\n",
        "* Lu, A. (2022) https://doi.org/10.1038/s41598-022-11925-y)\n",
        "Remove highly correlating columns. Threshold to be discussed, maybe 0.75?"
      ],
      "metadata": {
        "id": "y6av1wOBDe8-"
      }
    },
    {
      "cell_type": "code",
      "source": [
        "#alternative feature selection\n",
        "\n",
        "def drop_non_numeric_columns(df):\n",
        "    \"\"\"Drops columns from a DataFrame that do not contain numeric values.\n",
        "\n",
        "    Args:\n",
        "        df: The input DataFrame.\n",
        "\n",
        "    Returns:\n",
        "        A new DataFrame with non-numeric columns removed.\n",
        "    \"\"\"\n",
        "    numeric_df = df.select_dtypes(include=np.number)\n",
        "    return numeric_df\n",
        "\n",
        "#------------------------------------------------------------------------------------------\n",
        "\n",
        "class CorrelationFilter(BaseEstimator, TransformerMixin):\n",
        "    def __init__(self, threshold=0.95):\n",
        "        self.threshold = threshold\n",
        "\n",
        "    def fit(self, X, y=None):\n",
        "        df = pd.DataFrame(X)\n",
        "        corr_matrix = df.corr().abs()\n",
        "        upper = corr_matrix.where(np.triu(np.ones(corr_matrix.shape), k=1).astype(bool))\n",
        "\n",
        "        self.to_drop_ = set()\n",
        "        for col1 in upper.columns:\n",
        "            for col2 in upper.index:\n",
        "                if col1 == col2:\n",
        "                    continue\n",
        "                if upper.loc[col2, col1] > self.threshold:\n",
        "                    self.to_drop_.add(col2)  # Arbitrary: could also keep based on y\n",
        "\n",
        "        return self\n",
        "\n",
        "    def transform(self, X):\n",
        "        df = pd.DataFrame(X)\n",
        "        return df.drop(columns=self.to_drop_, errors=\"ignore\").values\n"
      ],
      "metadata": {
        "id": "HafvI2F1I20r"
      },
      "execution_count": null,
      "outputs": []
    },
    {
      "cell_type": "code",
      "source": [
        "def remove_semi_constant_features(df, semi_constant_threshold):\n",
        "    \"\"\"Removes columns from a Pandas DataFrame where 80% or more of the values are the same.\n",
        "\n",
        "    Args:\n",
        "        df: The input DataFrame.\n",
        "\n",
        "    Returns:\n",
        "        A new DataFrame with the single-value columns removed.\n",
        "    \"\"\"\n",
        "\n",
        "    cols_to_drop = []\n",
        "    for col in df.columns:\n",
        "        try:\n",
        "            # Calculate the percentage of the most frequent value\n",
        "            counts = df[col].value_counts(normalize=True)\n",
        "            if counts.iloc[0] >= semi_constant_threshold:\n",
        "                cols_to_drop.append(col)\n",
        "        except (TypeError, IndexError):\n",
        "            pass  # Handle cases where value_counts fails (e.g., mixed data types)\n",
        "\n",
        "    return df.drop(columns=cols_to_drop)\n",
        "\n",
        "def drop_non_numeric_columns(df):\n",
        "    \"\"\"Drops columns from a DataFrame that do not contain numeric values.\n",
        "\n",
        "    Args:\n",
        "        df: The input DataFrame.\n",
        "\n",
        "    Returns:\n",
        "        A new DataFrame with non-numeric columns removed.\n",
        "    \"\"\"\n",
        "    numeric_df = df.select_dtypes(include=np.number)\n",
        "    return numeric_df\n",
        "def drop_high_correlation_columns(df, threshold=0.75):\n",
        "    \"\"\"Drops columns from a DataFrame that have a correlation above a specified threshold.\n",
        "\n",
        "    Args:\n",
        "        df: The input DataFrame.\n",
        "        threshold: The correlation threshold above which columns are dropped.\n",
        "\n",
        "    Returns:\n",
        "        A new DataFrame with highly correlated columns removed.\n",
        "    \"\"\"\n",
        "\n",
        "    # Calculate the correlation matrix\n",
        "    corr_matrix = df.corr().abs()\n",
        "\n",
        "    # Select upper triangle of correlation matrix\n",
        "    upper = corr_matrix.where(np.triu(np.ones(corr_matrix.shape), k=1).astype(bool))\n",
        "\n",
        "    # Find index of feature columns with correlation greater than 0.75\n",
        "    to_drop = [column for column in upper.columns if any(upper[column] > threshold)]\n",
        "\n",
        "    # Drop features\n",
        "    return df.drop(columns=to_drop)\n",
        "\n",
        "\n",
        "\n",
        "\n"
      ],
      "metadata": {
        "id": "mjTpMu0nVGiq"
      },
      "execution_count": null,
      "outputs": []
    },
    {
      "cell_type": "code",
      "source": [
        "\n",
        "Landrum = True\n",
        "Phenol = True\n",
        "\n",
        "if Landrum:\n",
        "    if Phenol:\n",
        "        df_training = pd.read_csv(\"Landrum_Phenol_training_mordred.csv\")\n",
        "        df_test = pd.read_csv(\"Landrum_Phenol_test_mordred.csv\")\n",
        "    else:\n",
        "        df_training = pd.read_csv(\"Landrum_All_training_mordred.csv\")\n",
        "        df_test = pd.read_csv(\"Landrum_All_test_mordred.csv\")\n",
        "else:\n",
        "    if Phenol:\n",
        "        df_training = pd.read_csv(\"Minimal_Phenol_training_mordred.csv\")\n",
        "        df_test = pd.read_csv(\"Minimal_Phenol_test_mordred.csv\")\n",
        "    else:\n",
        "        df_training = pd.read_csv(\"Minimal_All_training_mordred.csv\")\n",
        "        df_test = pd.read_csv(\"Minimal_All_test_mordred.csv\")\n",
        "\n",
        "\n",
        "\n",
        "# Configuration switches\n",
        "USE_MORDRED = True       # True for Mordred, False for Morgan\n",
        "df.columns = df.columns.str.strip().str.lower()  # normalize to avoid KeyError\n",
        "\n",
        "# === Load and process data ===\n",
        "if USE_MORDRED:\n",
        "    # Drop known non-feature columns\n",
        "    df = drop_non_numeric_columns(df)\n",
        "    df = df.dropna(axis=1)\n",
        "\n",
        "\n",
        "\n",
        "    X = df.drop(columns=[\"active\", \"is_phenol\"], errors='ignore')  # keep as DataFrame\n",
        "    y = df[\"active\"]\n",
        "\n",
        "else:\n",
        "    # Keep only necessary columns for Morgan Fingerprints\n",
        "    df = df[[\"canonical_smiles\", \"is_phenol\", \"active\"]]\n",
        "    mfpgen = rdFingerprintGenerator.GetMorganGenerator(radius=2, fpSize=2048)\n",
        "\n",
        "    def smiles_to_fp(smiles):\n",
        "        mol = Chem.MolFromSmiles(smiles)\n",
        "        if mol is None:\n",
        "            return np.nan\n",
        "        return mfpgen.GetFingerprintAsNumPy(mol)\n",
        "\n",
        "    df[\"fp\"] = df[\"canonical_smiles\"].apply(smiles_to_fp)\n",
        "    df = df[df[\"fp\"].notna()].copy()\n",
        "\n",
        "    X = pd.DataFrame(df[\"fp\"].to_list())  # create DataFrame from fingerprint arrays\n",
        "    y = df[\"active\"]\n",
        "\n",
        "# === Train-test split ===\n",
        "X_train_df, X_test_df, y_train, y_test = train_test_split(\n",
        "    X_df, y, test_size=0.20, stratify=y, random_state=42)\n",
        "\n",
        "# === Save the train and test sets (with headers) ===\n",
        "prefix = []\n",
        "prefix.append(\"mordred\" if USE_MORDRED else \"morgan\")\n",
        "prefix.append(\"phenol\" if USE_PHENOLS else \"all\")\n",
        "prefix.append(\"fs\" if FEATURE_SELECTION else \"nofs\")\n",
        "basename = \"_\".join(prefix)\n",
        "\n",
        "X_train_df.to_csv(f\"{basename}_X_train.csv\", index=False, header=True)\n",
        "y_train.to_csv(f\"{basename}_y_train.csv\", index=False, header=True)\n",
        "X_test_df.to_csv(f\"{basename}_X_test.csv\", index=False, header=True)\n",
        "y_test.to_csv(f\"{basename}_y_test.csv\", index=False, header=True)\n",
        "\n",
        "# === Convert to NumPy if needed for modeling ===\n",
        "X_train = X_train_df.to_numpy()\n",
        "X_test = X_test_df.to_numpy()\n",
        "y_train = y_train.to_numpy()\n",
        "y_test = y_test.to_numpy()\n"
      ],
      "metadata": {
        "id": "JcjiMHWoUFcR",
        "colab": {
          "base_uri": "https://localhost:8080/",
          "height": 261
        },
        "outputId": "dff9cde5-5a69-46dc-eca8-dd4e12100e72"
      },
      "execution_count": null,
      "outputs": [
        {
          "output_type": "stream",
          "name": "stderr",
          "text": [
            "<ipython-input-28-e526b3ae023b>:6: DtypeWarning: Columns (56,57,58,59,60,61,62,63,64,144,145,153,154,155,156,157,158,159,160,161,162,163,171,172,180,181,189,190,198,199,207,208,216,217,225,226,234,235,263,264,265,266,267,268,269,270,271,360,361,369,370,371,372,373,374,375,376,377,378,379,387,388,396,397,405,406,414,415,423,424,432,433,441,442,450,451,466,467,474,475,476,477,478,479,480,481,482,483,490,491,498,499,506,507,514,515,522,523,530,531,538,539,546,547,562,563,570,571,572,573,574,575,576,577,578,579,586,587,594,595,602,603,610,611,618,619,626,627,634,635,642,643,820,828,835,836,844,851,1367,1614) have mixed types. Specify dtype option on import or set low_memory=False.\n",
            "  df_training = pd.read_csv(\"Landrum_Phenol_training_mordred.csv\")\n"
          ]
        },
        {
          "output_type": "error",
          "ename": "NameError",
          "evalue": "name 'drop_non_numeric_columns' is not defined",
          "traceback": [
            "\u001b[0;31m---------------------------------------------------------------------------\u001b[0m",
            "\u001b[0;31mNameError\u001b[0m                                 Traceback (most recent call last)",
            "\u001b[0;32m<ipython-input-28-e526b3ae023b>\u001b[0m in \u001b[0;36m<cell line: 0>\u001b[0;34m()\u001b[0m\n\u001b[1;32m     26\u001b[0m \u001b[0;32mif\u001b[0m \u001b[0mUSE_MORDRED\u001b[0m\u001b[0;34m:\u001b[0m\u001b[0;34m\u001b[0m\u001b[0;34m\u001b[0m\u001b[0m\n\u001b[1;32m     27\u001b[0m     \u001b[0;31m# Drop known non-feature columns\u001b[0m\u001b[0;34m\u001b[0m\u001b[0;34m\u001b[0m\u001b[0m\n\u001b[0;32m---> 28\u001b[0;31m     \u001b[0mdf\u001b[0m \u001b[0;34m=\u001b[0m \u001b[0mdrop_non_numeric_columns\u001b[0m\u001b[0;34m(\u001b[0m\u001b[0mdf\u001b[0m\u001b[0;34m)\u001b[0m\u001b[0;34m\u001b[0m\u001b[0;34m\u001b[0m\u001b[0m\n\u001b[0m\u001b[1;32m     29\u001b[0m     \u001b[0mdf\u001b[0m \u001b[0;34m=\u001b[0m \u001b[0mdf\u001b[0m\u001b[0;34m.\u001b[0m\u001b[0mdropna\u001b[0m\u001b[0;34m(\u001b[0m\u001b[0maxis\u001b[0m\u001b[0;34m=\u001b[0m\u001b[0;36m1\u001b[0m\u001b[0;34m)\u001b[0m\u001b[0;34m\u001b[0m\u001b[0;34m\u001b[0m\u001b[0m\n\u001b[1;32m     30\u001b[0m \u001b[0;34m\u001b[0m\u001b[0m\n",
            "\u001b[0;31mNameError\u001b[0m: name 'drop_non_numeric_columns' is not defined"
          ]
        }
      ]
    },
    {
      "cell_type": "code",
      "source": [
        "# Define Preprocessing and Models\n",
        "from sklearn.metrics import classification_report\n",
        "\n",
        "def get_model_pipeline(model_name):\n",
        "    if model_name == 'RandomForest':\n",
        "        model = RandomForestClassifier(class_weight='balanced', random_state=42)\n",
        "    elif model_name == 'SVM':\n",
        "        model = SVC(class_weight='balanced', probability=True, random_state=42)\n",
        "    elif model_name == 'LogisticRegression':\n",
        "        model = LogisticRegression(class_weight='balanced', solver='liblinear', random_state=42)\n",
        "    elif model_name == 'NeuralNetwork':\n",
        "        model = MLPClassifier(max_iter=1000, random_state=42)\n",
        "    else:\n",
        "        raise ValueError(f\"Model {model_name} is not supported.\")\n",
        "\n",
        "    pipeline = Pipeline([\n",
        "        ('scaler', StandardScaler()),\n",
        "        (\"var_thresh\", VarianceThreshold(threshold=0.01)),#light filtering of low variance features (more often seen than the 80% constant value method but should do approx the same)\n",
        "        (\"corr_filter\", CorrelationFilter(threshold=0.95)), #custom light filtering of highly correlated features (removes feature with lower correlation to activity value)\n",
        "        (\"anova\", SelectKBest(score_func=mutual_info_classif)),  # Supervised Filter-Based Selection with ANOVA, k can be tuned\n",
        "        ('classifier', model)\n",
        "    ])\n",
        "\n",
        "    return pipeline"
      ],
      "metadata": {
        "id": "Kq4cDyFjZHxL"
      },
      "execution_count": null,
      "outputs": []
    },
    {
      "cell_type": "code",
      "source": [
        "param_grids = {\n",
        "    'RandomForest': {\n",
        "        'classifier__n_estimators': [100, 200],\n",
        "        'classifier__max_depth': [None, 10, 20],\n",
        "        'anova__k': [50, 100, 200],\n",
        "        'classifier__max_features': ['sqrt', 'log2']\n",
        "    },\n",
        "    'SVM': {\n",
        "        'classifier__C': [0.1, 1, 10],\n",
        "        'anova__k': [50, 100, 200],\n",
        "        'classifier__kernel': ['linear', 'rbf']\n",
        "    },\n",
        "    'LogisticRegression': {\n",
        "    'classifier__penalty': ['l1', 'l2', 'elasticnet'],\n",
        "    'classifier__C': [0.1, 0.01, 0.001],\n",
        "    'classifier__solver': ['saga'],\n",
        "    'anova__k': [50, 100, 200],\n",
        "    'classifier__l1_ratio': [0.25, 0.5, 0.75]\n",
        "    },\n",
        "    'NeuralNetwork': {\n",
        "        'classifier__hidden_layer_sizes': [(50,), (100,), (50, 50)],\n",
        "        'classifier__alpha': [0.0001, 0.001],\n",
        "        'anova__k': [50, 100, 200],\n",
        "        'classifier__learning_rate': ['constant', 'adaptive']\n",
        "    }\n",
        "}\n"
      ],
      "metadata": {
        "id": "h-PUUt6FUxqr"
      },
      "execution_count": null,
      "outputs": []
    },
    {
      "cell_type": "code",
      "source": [
        "#Hyperparameter Tuning with Cross-Validation\n",
        "from sklearn.model_selection import GridSearchCV, StratifiedKFold\n",
        "kf = StratifiedKFold(n_splits=10, shuffle=True, random_state=42)\n",
        "def perform_grid_search(pipeline, param_grid, X_train, y_train):\n",
        "    grid_search = GridSearchCV(\n",
        "        estimator=pipeline,\n",
        "        param_grid=param_grid,\n",
        "        cv=kf,\n",
        "        scoring='roc_auc',\n",
        "        n_jobs=-1\n",
        "    )\n",
        "    grid_search.fit(X_train, y_train)\n",
        "    return grid_search\n"
      ],
      "metadata": {
        "id": "Y0A96ZSWVDCx"
      },
      "execution_count": null,
      "outputs": []
    },
    {
      "cell_type": "code",
      "source": [
        "# loop through each model, perform grid search, and evaluate\n",
        "import matplotlib.pyplot as plt\n",
        "from scipy.stats import sem\n",
        "for model_name in ['NeuralNetwork', 'RandomForest', 'LogisticRegression']: #'RandomForest', 'SVM', 'LogisticRegression',\n",
        "    print(f\"\\nTraining and evaluating {model_name}...\")\n",
        "\n",
        "    pipeline = get_model_pipeline(model_name)\n",
        "    param_grid = param_grids[model_name]\n",
        "    grid_search = perform_grid_search(pipeline, param_grid, X_train, y_train)\n",
        "    model = grid_search.best_estimator_\n",
        "    print(f\"Hyperparameters: {grid_search.best_params_}\\n\")\n",
        "    evaluate_model_with_cv(model, X_train, y_train, random_state=42)\n",
        "\n"
      ],
      "metadata": {
        "colab": {
          "base_uri": "https://localhost:8080/",
          "height": 1000
        },
        "id": "J8ew0D9LjsYz",
        "outputId": "f354e7d3-9bd0-4d51-aa8d-f76b5324f4e7"
      },
      "execution_count": null,
      "outputs": [
        {
          "output_type": "stream",
          "name": "stdout",
          "text": [
            "\n",
            "Training and evaluating NeuralNetwork...\n",
            "Hyperparameters: {'classifier__alpha': 0.0001, 'classifier__hidden_layer_sizes': (50, 50), 'classifier__learning_rate': 'constant'}\n",
            "\n",
            "Average accuracy: 0.7445 \t and std err: 0.0292\n",
            "Average precision: 0.7735 \t and std err: 0.0237\n",
            "Average F1 score: 0.8034 \t and std err: 0.0240\n",
            "Average AUC score: 0.7206 \t and std err: 0.0555\n",
            "\n",
            "Training and evaluating RandomForest...\n",
            "Hyperparameters: {'classifier__max_depth': 10, 'classifier__max_features': 'sqrt', 'classifier__n_estimators': 200}\n",
            "\n",
            "Average accuracy: 0.8390 \t and std err: 0.0294\n",
            "Average precision: 0.8261 \t and std err: 0.0325\n",
            "Average F1 score: 0.8865 \t and std err: 0.0191\n",
            "Average AUC score: 0.9474 \t and std err: 0.0163\n",
            "\n",
            "Training and evaluating LogisticRegression...\n",
            "Hyperparameters: {'classifier__C': 0.01, 'classifier__l1_ratio': 0.25, 'classifier__penalty': 'elasticnet', 'classifier__solver': 'saga'}\n",
            "\n",
            "Average accuracy: 0.9055 \t and std err: 0.0217\n",
            "Average precision: 0.8734 \t and std err: 0.0278\n",
            "Average F1 score: 0.9303 \t and std err: 0.0159\n",
            "Average AUC score: 1.0000 \t and std err: 0.0000\n"
          ]
        },
        {
          "output_type": "display_data",
          "data": {
            "text/plain": [
              "<Figure size 640x480 with 1 Axes>"
            ],
            "image/png": "[encoded data removed]"
          },
          "metadata": {}
        },
        {
          "output_type": "display_data",
          "data": {
            "text/plain": [
              "<Figure size 640x480 with 1 Axes>"
            ],
            "image/png": "[encoded data removed]"
          },
          "metadata": {}
        },
        {
          "output_type": "display_data",
          "data": {
            "text/plain": [
              "<Figure size 640x480 with 1 Axes>"
            ],
            "image/png": "[encoded data removed]"
          },
          "metadata": {}
        }
      ]
    },
    {
      "cell_type": "code",
      "source": [
        "#Model Evaluation\n",
        "from sklearn.model_selection import StratifiedKFold\n",
        "from sklearn.metrics import (\n",
        "    accuracy_score, roc_auc_score, precision_score, f1_score, roc_curve\n",
        ")\n",
        "import matplotlib.pyplot as plt\n",
        "import numpy as np\n",
        "from scipy import stats\n",
        "from sklearn.base import clone\n",
        "\n",
        "def evaluate_model_with_cv(model, X, y, random_state):\n",
        "    \"\"\"\n",
        "    Evaluate a model using 10-fold cross-validation and return performance metrics.\n",
        "\n",
        "    Parameters:\n",
        "        model: The model to evaluate\n",
        "        X: Feature matrix\n",
        "        y: Target vector\n",
        "        random_state: Random seed for reproducibility\n",
        "\n",
        "    Returns:\n",
        "        Dictionary with performance metrics and arrays of per-fold metrics\n",
        "    \"\"\"\n",
        "    # Initialize KFold\n",
        "    skf = StratifiedKFold(n_splits=10, shuffle=True, random_state=random_state)\n",
        "\n",
        "\n",
        "    # Lists to store metrics\n",
        "    metrics = {\n",
        "        'accuracies': [],\n",
        "        'precisions': [],\n",
        "        'f1_scores': [],\n",
        "        'auc_scores': []\n",
        "\n",
        "    }\n",
        "\n",
        "    # Create figure for ROC curves\n",
        "    plt.figure()\n",
        "\n",
        "    # Iterate over folds\n",
        "    for k, (train_index, test_index) in enumerate(skf.split(X, y)):\n",
        "        # Split data\n",
        "        X_train_fold, X_test_fold = X[train_index], X[test_index]\n",
        "        y_train_fold, y_test_fold = y[train_index], y[test_index]\n",
        "\n",
        "        # Train model\n",
        "        model.fit(X_train_fold, y_train_fold)\n",
        "\n",
        "        # Predict\n",
        "        y_pred_fold = model.predict(X_test_fold)\n",
        "        y_prob_fold = model.predict_proba(X_test_fold)[:, 1]\n",
        "\n",
        "        # Calculate metrics\n",
        "        metrics['accuracies'].append(accuracy_score(y_test_fold, y_pred_fold))\n",
        "        metrics['precisions'].append(precision_score(y_test_fold, y_pred_fold))\n",
        "        metrics['f1_scores'].append(f1_score(y_test_fold, y_pred_fold))\n",
        "        metrics['auc_scores'].append(roc_auc_score(y_test_fold, y_prob_fold))\n",
        "\n",
        "        # ROC curve\n",
        "        RocCurveDisplay.from_predictions(y_test_fold, y_prob_fold, name=f\"Fold {k+1}\", ax=plt.gca())\n",
        "\n",
        "        # Print metrics\n",
        "    metric_display_names = {\n",
        "    'accuracies': 'accuracy',\n",
        "    'precisions':'precision',\n",
        "    'f1_scores': 'F1 score',\n",
        "    'auc_scores': 'AUC score'\n",
        "    }\n",
        "\n",
        "    for metric_name, values in metrics.items():\n",
        "      display_name = metric_display_names[metric_name]\n",
        "      print(f\"Average {display_name}: {np.mean(values):.4f} \\t and std err: {stats.sem(values):.4f}\")\n",
        "\n",
        "    return metrics\n",
        "\n",
        "\n",
        "\n"
      ],
      "metadata": {
        "id": "X6rxmxMHNI8Q"
      },
      "execution_count": null,
      "outputs": []
    },
    {
      "cell_type": "markdown",
      "source": [],
      "metadata": {
        "id": "M7-SSqC01WZj"
      }
    }
  ]
}