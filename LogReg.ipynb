{
  "nbformat": 4,
  "nbformat_minor": 0,
  "metadata": {
    "colab": {
      "provenance": [],
      "toc_visible": true,
      "authorship_tag": "ABX9TyObZHIJXKRYMQ9bR8Pr0a0a",
      "include_colab_link": true
    },
    "kernelspec": {
      "name": "python3",
      "display_name": "Python 3"
    },
    "language_info": {
      "name": "python"
    }
  },
  "cells": [
    {
      "cell_type": "markdown",
      "metadata": {
        "id": "view-in-github",
        "colab_type": "text"
      },
      "source": [
        "<a href=\"https://colab.research.google.com/github/ManuelOtt-code/Project-DC/blob/master/LogReg.ipynb\" target=\"_parent\"><img src=\"https://colab.research.google.com/assets/colab-badge.svg\" alt=\"Open In Colab\"/></a>"
      ]
    },
    {
      "cell_type": "code",
      "execution_count": null,
      "metadata": {
        "id": "5K1BCVwK9M4x"
      },
      "outputs": [],
      "source": [
        "from sklearn.metrics import (\n",
        "    accuracy_score, precision_score, recall_score,\n",
        "    f1_score, roc_auc_score, confusion_matrix, roc_curve\n",
        ")\n",
        "from sklearn.preprocessing import StandardScaler\n",
        "from sklearn.feature_selection import SelectKBest, mutual_info_classif\n",
        "import matplotlib.pyplot as plt\n",
        "\n",
        "# Load data\n",
        "train_df = pd.read_csv(\"train_mordred_phenol_scaled_reduced.csv\")\n",
        "test_df = pd.read_csv(\"test_mordred_phenol_scaled_reduced.csv\")\n",
        "\n",
        "# Separate features and labels\n",
        "X_train = train_df.drop(columns=[\"active\", \"Unnamed: 0\"], errors=\"ignore\")\n",
        "y_train = train_df[\"active\"]\n",
        "X_test = test_df.drop(columns=[\"active\", \"Unnamed: 0\"], errors=\"ignore\")\n",
        "y_test = test_df[\"active\"]\n",
        "\n",
        "# Align and drop missing\n",
        "shared_cols = X_train.columns.intersection(X_test.columns)\n",
        "X_train = X_train[shared_cols].dropna(axis=1)\n",
        "X_test = X_test[X_train.columns].dropna(axis=1)\n",
        "\n",
        "# Select top 7 features using mutual information\n",
        "selector = SelectKBest(score_func=mutual_info_classif, k=7)\n",
        "X_train_selected = selector.fit_transform(X_train_scaled, y_train)\n",
        "X_test_selected = selector.transform(X_test_scaled)\n",
        "\n",
        "# Train logistic regression\n",
        "model = LogisticRegression(class_weight=\"balanced\", solver=\"liblinear\", random_state=42)\n",
        "model.fit(X_train_selected, y_train)\n",
        "\n",
        "# Evaluate\n",
        "y_pred = model.predict(X_test_selected)\n",
        "y_proba = model.predict_proba(X_test_selected)[:, 1]\n"
      ]
    }
  ]
}