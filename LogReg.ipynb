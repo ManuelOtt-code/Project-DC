{
  "nbformat": 4,
  "nbformat_minor": 0,
  "metadata": {
    "colab": {
      "provenance": [],
      "authorship_tag": "ABX9TyMWEJSmlEKstx2PBDfVyE0A",
      "include_colab_link": true
    },
    "kernelspec": {
      "name": "python3",
      "display_name": "Python 3"
    },
    "language_info": {
      "name": "python"
    }
  },
  "cells": [
    {
      "cell_type": "markdown",
      "metadata": {
        "id": "view-in-github",
        "colab_type": "text"
      },
      "source": [
        "<a href=\"https://colab.research.google.com/github/ManuelOtt-code/Project-DC/blob/master/LogReg.ipynb\" target=\"_parent\"><img src=\"https://colab.research.google.com/assets/colab-badge.svg\" alt=\"Open In Colab\"/></a>"
      ]
    },
    {
      "cell_type": "code",
      "execution_count": 34,
      "metadata": {
        "id": "5K1BCVwK9M4x"
      },
      "outputs": [],
      "source": [
        "import pandas as pd\n",
        "import numpy as np\n",
        "from sklearn.linear_model import LogisticRegression\n",
        "from sklearn.metrics import (\n",
        "    accuracy_score, precision_score, recall_score,\n",
        "    f1_score, roc_auc_score, confusion_matrix, roc_curve\n",
        ")\n",
        "from sklearn.preprocessing import StandardScaler\n",
        "from sklearn.feature_selection import SelectKBest, f_classif, VarianceThreshold\n",
        "import matplotlib.pyplot as plt\n",
        "from sklearn.model_selection import RandomizedSearchCV, StratifiedKFold\n",
        "from sklearn.pipeline import Pipeline\n",
        "from sklearn.base import BaseEstimator, TransformerMixin\n",
        "\n",
        "\n",
        "\n"
      ]
    },
    {
      "cell_type": "code",
      "source": [
        "def drop_non_numeric_columns(df):\n",
        "    \"\"\"Drops columns from a DataFrame that do not contain numeric values.\n",
        "\n",
        "    Args:\n",
        "        df: The input DataFrame.\n",
        "\n",
        "    Returns:\n",
        "        A new DataFrame with non-numeric columns removed.\n",
        "    \"\"\"\n",
        "    numeric_df = df.select_dtypes(include=np.number)\n",
        "    return numeric_df"
      ],
      "metadata": {
        "id": "p1byw4f8az_X"
      },
      "execution_count": 32,
      "outputs": []
    },
    {
      "cell_type": "code",
      "source": [
        "class CorrelationFilter(BaseEstimator, TransformerMixin):\n",
        "    def __init__(self, threshold=0.95):\n",
        "        self.threshold = threshold\n",
        "\n",
        "    def fit(self, X, y=None):\n",
        "        df = pd.DataFrame(X)\n",
        "        corr_matrix = df.corr().abs()\n",
        "        upper = corr_matrix.where(np.triu(np.ones(corr_matrix.shape), k=1).astype(bool))\n",
        "\n",
        "        self.to_drop_ = set()\n",
        "        for col1 in upper.columns:\n",
        "            for col2 in upper.index:\n",
        "                if col1 == col2:\n",
        "                    continue\n",
        "                if upper.loc[col2, col1] > self.threshold:\n",
        "                    self.to_drop_.add(col2)  # Arbitrary: could also keep based on y\n",
        "\n",
        "        return self\n",
        "\n",
        "    def transform(self, X):\n",
        "        df = pd.DataFrame(X)\n",
        "        return df.drop(columns=self.to_drop_, errors=\"ignore\").values"
      ],
      "metadata": {
        "id": "ALPTzbpYg5P3"
      },
      "execution_count": 33,
      "outputs": []
    },
    {
      "cell_type": "code",
      "source": [
        "# Load data\n",
        "train_df = pd.read_csv(\"Landrum_All_training_mordred.csv\")\n",
        "test_df = pd.read_csv(\"Landrum_All_training_mordred.csv\")\n",
        "\n",
        "train_df=drop_non_numeric_columns(train_df)\n",
        "test_df=drop_non_numeric_columns(test_df)\n",
        "\n",
        "# Separate features and labels\n",
        "X_train = train_df.drop(columns=[\"active\", \"Unnamed: 0\"], errors=\"ignore\")\n",
        "y_train = train_df[\"active\"]\n",
        "X_test = test_df.drop(columns=[\"active\", \"Unnamed: 0\"], errors=\"ignore\")\n",
        "y_test = test_df[\"active\"]\n",
        "\n",
        "# Align and drop missing\n",
        "shared_cols = X_train.columns.intersection(X_test.columns)\n",
        "X_train = X_train[shared_cols].dropna(axis=1)\n",
        "X_test = X_test[X_train.columns].dropna(axis=1)\n",
        "\n",
        "\n",
        "\n"
      ],
      "metadata": {
        "colab": {
          "base_uri": "https://localhost:8080/"
        },
        "id": "PNsBLzPRZ6S9",
        "outputId": "4168bd14-d5c8-4ff6-d669-7605cce5edd9"
      },
      "execution_count": 35,
      "outputs": [
        {
          "output_type": "stream",
          "name": "stderr",
          "text": [
            "<ipython-input-35-2c9a2d9727e9>:2: DtypeWarning: Columns (7,8,9,10,11,12,13,14,15,16,17,18,56,57,58,59,60,61,62,63,64,143,144,152,153,155,156,157,158,159,160,161,170,171,179,180,188,189,197,198,206,207,215,216,224,225,233,234,236,237,238,239,240,241,242,243,244,263,264,265,266,267,268,269,270,271,344,345,346,347,348,349,350,359,360,368,369,371,372,373,374,375,376,377,386,387,395,396,404,405,413,414,422,423,431,432,440,441,449,450,452,453,454,455,456,457,465,466,473,474,476,477,478,479,480,481,489,490,497,498,505,506,513,514,521,522,529,530,537,538,545,546,548,549,550,551,552,553,561,562,569,570,572,573,574,575,576,577,585,586,593,594,601,602,609,610,617,618,625,626,633,634,641,642,644,645,646,647,648,649,650,651,652,653,654,655,656,657,658,659,660,661,662,663,664,665,666,667,669,670,671,672,673,674,675,676,677,678,679,680,681,682,683,684,685,686,687,688,689,690,691,692,693,694,695,696,697,698,699,700,701,702,703,704,705,706,707,708,709,710,711,712,713,714,715,716,717,718,719,720,721,722,723,724,725,726,727,728,729,730,731,732,733,734,735,736,737,738,739,740,741,742,743,744,745,746,747,748,749,750,751,752,753,754,755,756,757,758,759,760,761,762,763,764,765,766,767,768,769,770,771,772,783,784,820,828,834,835,836,844,850,851,882,883,884,885,886,887,888,889,890,891,892,893,1211,1212,1213,1214,1215,1216,1217,1218,1219,1220,1221,1222,1223,1224,1225,1226,1227,1228,1229,1230,1231,1232,1233,1234,1235,1236,1237,1238,1239,1240,1241,1242,1243,1244,1245,1246,1247,1248,1249,1250,1251,1252,1253,1254,1255,1366,1367,1369,1381,1382,1383,1384,1385,1386,1387,1388,1389,1390,1391,1392,1585,1614) have mixed types. Specify dtype option on import or set low_memory=False.\n",
            "  train_df = pd.read_csv(\"Landrum_All_training_mordred.csv\")\n",
            "<ipython-input-35-2c9a2d9727e9>:3: DtypeWarning: Columns (7,8,9,10,11,12,13,14,15,16,17,18,56,57,58,59,60,61,62,63,64,143,144,152,153,155,156,157,158,159,160,161,170,171,179,180,188,189,197,198,206,207,215,216,224,225,233,234,236,237,238,239,240,241,242,243,244,263,264,265,266,267,268,269,270,271,344,345,346,347,348,349,350,359,360,368,369,371,372,373,374,375,376,377,386,387,395,396,404,405,413,414,422,423,431,432,440,441,449,450,452,453,454,455,456,457,465,466,473,474,476,477,478,479,480,481,489,490,497,498,505,506,513,514,521,522,529,530,537,538,545,546,548,549,550,551,552,553,561,562,569,570,572,573,574,575,576,577,585,586,593,594,601,602,609,610,617,618,625,626,633,634,641,642,644,645,646,647,648,649,650,651,652,653,654,655,656,657,658,659,660,661,662,663,664,665,666,667,669,670,671,672,673,674,675,676,677,678,679,680,681,682,683,684,685,686,687,688,689,690,691,692,693,694,695,696,697,698,699,700,701,702,703,704,705,706,707,708,709,710,711,712,713,714,715,716,717,718,719,720,721,722,723,724,725,726,727,728,729,730,731,732,733,734,735,736,737,738,739,740,741,742,743,744,745,746,747,748,749,750,751,752,753,754,755,756,757,758,759,760,761,762,763,764,765,766,767,768,769,770,771,772,783,784,820,828,834,835,836,844,850,851,882,883,884,885,886,887,888,889,890,891,892,893,1211,1212,1213,1214,1215,1216,1217,1218,1219,1220,1221,1222,1223,1224,1225,1226,1227,1228,1229,1230,1231,1232,1233,1234,1235,1236,1237,1238,1239,1240,1241,1242,1243,1244,1245,1246,1247,1248,1249,1250,1251,1252,1253,1254,1255,1366,1367,1369,1381,1382,1383,1384,1385,1386,1387,1388,1389,1390,1391,1392,1585,1614) have mixed types. Specify dtype option on import or set low_memory=False.\n",
            "  test_df = pd.read_csv(\"Landrum_All_training_mordred.csv\")\n"
          ]
        }
      ]
    },
    {
      "cell_type": "code",
      "source": [
        "# Define the pipeline\n",
        "pipeline = Pipeline([\n",
        "    ('scaler', StandardScaler()),\n",
        "    ('select', SelectKBest(score_func=f_classif)),  # You can change score_func if needed\n",
        "    ('logreg', LogisticRegression(max_iter=1000, solver='liblinear'))\n",
        "])\n",
        "\n",
        "# Define parameter grid\n",
        "param_grid = {\n",
        "    'select__k': [5, 10, 20],               # Number of features to select\n",
        "    'logreg__C': [1, 10, 100],          # Regularization strength\n",
        "    'logreg__penalty': ['l1', 'l2']                # L1 (sparse) vs. L2 (ridge)\n",
        "}"
      ],
      "metadata": {
        "id": "2xp1rmbBcLwM"
      },
      "execution_count": 45,
      "outputs": []
    },
    {
      "cell_type": "code",
      "source": [
        "# Define cross-validation strategy\n",
        "cv = StratifiedKFold(n_splits=5, shuffle=True, random_state=42)\n",
        "\n",
        "# Run grid search\n",
        "random_search = RandomizedSearchCV(pipeline, param_grid, cv=cv, scoring='accuracy', n_jobs=-1)\n",
        "random_search.fit(X_train, y_train)\n",
        "\n",
        "# Output best model and parameters\n",
        "print(\"Best random parameters:\", random_search.best_params_)\n",
        "print(\"Best cross-validation accuracy:\", random_search.best_score_)\n",
        "\n",
        "# Use the best model to predict\n",
        "best_model = random_search.best_estimator_\n",
        "y_pred = best_model.predict(X_test)\n",
        "\n"
      ],
      "metadata": {
        "colab": {
          "base_uri": "https://localhost:8080/"
        },
        "id": "jhMAxRaaZ9bR",
        "outputId": "7d5476ab-6046-47db-e25c-6302990c7086"
      },
      "execution_count": 46,
      "outputs": [
        {
          "output_type": "stream",
          "name": "stdout",
          "text": [
            "Best random parameters: {'select__k': 20, 'logreg__penalty': 'l2', 'logreg__C': 100}\n",
            "Best cross-validation accuracy: 0.7233064474773448\n"
          ]
        },
        {
          "output_type": "stream",
          "name": "stderr",
          "text": [
            "/usr/local/lib/python3.11/dist-packages/sklearn/feature_selection/_univariate_selection.py:111: UserWarning: Features [ 12 509 510 511 512 513 514 518 522 528 530 535 547 548 549 551 552 553\n",
            " 555 560 563 564 565 566 567 568 569 570 571 572 576 577 579 580 581 582\n",
            " 584 585 586 587 588 589 590 591 592 593 597 601 607 609 614 626 627 628\n",
            " 630 631 632 634 639 642 643 644 645 646 647 648 649 650 651 655 656 658\n",
            " 659 660 661 663 664 665 666 740 750 803 804 805 813 814 815 816 817 818\n",
            " 820 821 824 825 826 827 828 829 830 832 833 836 837 838 839 840 841 842\n",
            " 851 852 853 861 862 863 864 865 866 868 869 870 879 880 881 890 891 892\n",
            " 893 897 901 902 903 904 908 912 913 914 923 924 925 931] are constant.\n",
            "  warnings.warn(\"Features %s are constant.\" % constant_features_idx, UserWarning)\n",
            "/usr/local/lib/python3.11/dist-packages/sklearn/feature_selection/_univariate_selection.py:112: RuntimeWarning: invalid value encountered in divide\n",
            "  f = msb / msw\n"
          ]
        }
      ]
    },
    {
      "cell_type": "code",
      "source": [],
      "metadata": {
        "id": "TY2qlW70bzII"
      },
      "execution_count": null,
      "outputs": []
    },
    {
      "cell_type": "code",
      "source": [
        "# Evaluate\n",
        "y_pred = best_model.predict(X_test)\n",
        "y_proba = best_model.predict_proba(X_test)[:, 1]\n",
        "# Plot ROC Curve\n",
        "fpr, tpr, _ = roc_curve(y_test, y_proba)\n",
        "plt.figure(figsize=(6, 4))\n",
        "plt.plot(fpr, tpr, label=f'ROC AUC = {roc_auc_score(y_test, y_proba):.2f}')\n",
        "plt.plot([0, 1], [0, 1], linestyle='--')\n",
        "plt.xlabel(\"False Positive Rate\")\n",
        "plt.ylabel(\"True Positive Rate\")\n",
        "plt.title(\"ROC Curve\")\n",
        "plt.legend()\n",
        "plt.grid(True)\n",
        "plt.tight_layout()\n",
        "plt.show()\n"
      ],
      "metadata": {
        "colab": {
          "base_uri": "https://localhost:8080/",
          "height": 407
        },
        "id": "tAZAI-SqZ_yq",
        "outputId": "7b20f417-bc3f-4d93-f97d-abf62af129ec"
      },
      "execution_count": 47,
      "outputs": [
        {
          "output_type": "display_data",
          "data": {
            "text/plain": [
              "<Figure size 600x400 with 1 Axes>"
            ],
            "image/png": "[encoded data removed]"
          },
          "metadata": {}
        }
      ]
    }
  ]
}